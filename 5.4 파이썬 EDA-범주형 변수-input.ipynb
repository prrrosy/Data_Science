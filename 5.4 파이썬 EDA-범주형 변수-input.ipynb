{
  "cells": [
    {
      "cell_type": "markdown",
      "metadata": {
        "id": "p9f_VgZyDhpd"
      },
      "source": [
        "## 라이브러리 로드"
      ]
    },
    {
      "cell_type": "code",
      "execution_count": null,
      "metadata": {
        "id": "nHpUjF4YDhpf"
      },
      "outputs": [],
      "source": [
        "# 데이터 분석을 위한 pandas 라이브러리를 불러옵니다.\n",
        "# 수치계산을 위한 numpy를 불러옵니다.\n",
        "# 데이터 시각화를 위한 matplotlib, seaborn 을 불러옵니다.\n",
        "\n"
      ]
    },
    {
      "cell_type": "code",
      "execution_count": null,
      "metadata": {
        "scrolled": true,
        "id": "z4kLgpzJDhpg"
      },
      "outputs": [],
      "source": [
        "print(pd.__version__)\n",
        "print(sns.__version__)"
      ]
    },
    {
      "cell_type": "code",
      "execution_count": null,
      "metadata": {
        "id": "vKTuOOrUDhpg"
      },
      "outputs": [],
      "source": [
        "# 0.11.0 버전에서 변화가 많으니 이 버전 이상을 사용해 주세요. \n",
        "# !pip install seaborn --upgrade"
      ]
    },
    {
      "cell_type": "markdown",
      "metadata": {
        "id": "Y8tlGRc8Dhpg"
      },
      "source": [
        "## 데이터셋 불러오기"
      ]
    },
    {
      "cell_type": "code",
      "execution_count": null,
      "metadata": {
        "id": "vL_jZEvgDhpg"
      },
      "outputs": [],
      "source": [
        "# mpg 데이터셋을 불러옵니다.\n",
        "# df\n"
      ]
    },
    {
      "cell_type": "markdown",
      "metadata": {
        "id": "LcyPcJ5-Dhph"
      },
      "source": [
        "## 데이터셋 일부만 가져오기"
      ]
    },
    {
      "cell_type": "code",
      "execution_count": null,
      "metadata": {
        "scrolled": true,
        "id": "4NHGPGXYDhph"
      },
      "outputs": [],
      "source": [
        "# head\n"
      ]
    },
    {
      "cell_type": "code",
      "execution_count": null,
      "metadata": {
        "id": "_SBynKj0Dhph"
      },
      "outputs": [],
      "source": [
        "# tail\n"
      ]
    },
    {
      "cell_type": "markdown",
      "metadata": {
        "id": "WnhwtFQbDhpi"
      },
      "source": [
        "## 요약하기"
      ]
    },
    {
      "cell_type": "code",
      "execution_count": null,
      "metadata": {
        "id": "vGwN7hFJDhpi"
      },
      "outputs": [],
      "source": [
        ""
      ]
    },
    {
      "cell_type": "markdown",
      "metadata": {
        "id": "MF4WiZygDhpi"
      },
      "source": [
        "##  결측치 보기"
      ]
    },
    {
      "cell_type": "code",
      "execution_count": null,
      "metadata": {
        "id": "soRzaaMfDhpi"
      },
      "outputs": [],
      "source": [
        ""
      ]
    },
    {
      "cell_type": "markdown",
      "metadata": {
        "id": "vmJciRMNDhpi"
      },
      "source": [
        "## 기술통계"
      ]
    },
    {
      "cell_type": "code",
      "execution_count": null,
      "metadata": {
        "id": "OVxj22twDhpj"
      },
      "outputs": [],
      "source": [
        "# describe 를 통해 범주형 변수에 대한 기술통계를 보기\n"
      ]
    },
    {
      "cell_type": "markdown",
      "metadata": {
        "id": "geYz1VYrDhpj"
      },
      "source": [
        "## 범주형 변수\n",
        "### 범주형 데이터 유일값의 빈도수"
      ]
    },
    {
      "cell_type": "code",
      "execution_count": null,
      "metadata": {
        "id": "E54ja4aZDhpj"
      },
      "outputs": [],
      "source": [
        "# nunique 값 구하기\n"
      ]
    },
    {
      "cell_type": "code",
      "execution_count": null,
      "metadata": {
        "id": "hQjfDn5zDhpj"
      },
      "outputs": [],
      "source": [
        "# countplot 으로 origin 빈도수 시각화 하기\n"
      ]
    },
    {
      "cell_type": "markdown",
      "metadata": {
        "id": "f6t5uH1tDhpj"
      },
      "source": [
        "### 1개 변수의 빈도수"
      ]
    },
    {
      "cell_type": "code",
      "execution_count": null,
      "metadata": {
        "id": "J_BwLnSUDhpj"
      },
      "outputs": [],
      "source": [
        "# origin 의 빈도수 구하기\n"
      ]
    },
    {
      "cell_type": "markdown",
      "metadata": {
        "id": "eMeRwsiKDhpj"
      },
      "source": [
        "### 2개 이상의 변수에 대한 빈도수"
      ]
    },
    {
      "cell_type": "code",
      "execution_count": null,
      "metadata": {
        "id": "KIg1h66ODhpj"
      },
      "outputs": [],
      "source": [
        "# countplot 으로 origin 의 빈도수를 시각화 하고 cylinders 로 다른 색상으로 표현하기\n"
      ]
    },
    {
      "cell_type": "code",
      "execution_count": null,
      "metadata": {
        "id": "LKqmKfTrDhpk"
      },
      "outputs": [],
      "source": [
        "# countplot 으로 cylinders 의 빈도수를 시각화 하고 origin 으로 다른 색상으로 표현하기\n"
      ]
    },
    {
      "cell_type": "code",
      "execution_count": null,
      "metadata": {
        "id": "FtI8lmsKDhpl"
      },
      "outputs": [],
      "source": [
        "# pd.crosstab 으로 시각화한 값 직접 구하기\n"
      ]
    },
    {
      "cell_type": "markdown",
      "metadata": {
        "id": "EUXwscCJDhpl"
      },
      "source": [
        "### 범주형 vs 수치형 변수"
      ]
    },
    {
      "cell_type": "code",
      "execution_count": null,
      "metadata": {
        "id": "E1FrxwC-Dhpl"
      },
      "outputs": [],
      "source": [
        "# barplot 으로 origin 별 mpg 값 구하기\n"
      ]
    },
    {
      "cell_type": "markdown",
      "metadata": {
        "id": "Dd1-YPMwDhpl"
      },
      "source": [
        "### groupby 를 통한 연산"
      ]
    },
    {
      "cell_type": "code",
      "execution_count": null,
      "metadata": {
        "id": "9H6ykknSDhpl"
      },
      "outputs": [],
      "source": [
        "# groupby를 통해 origin 별로 그룹화 하고 mpg 의 평균 구하기\n"
      ]
    },
    {
      "cell_type": "markdown",
      "metadata": {
        "id": "TEE1Brr4Dhpl"
      },
      "source": [
        "### pivot table을 통한 연산"
      ]
    },
    {
      "cell_type": "code",
      "execution_count": null,
      "metadata": {
        "id": "bfJNtJoGDhpl"
      },
      "outputs": [],
      "source": [
        "# pivot_table 로 같은 값 구하기\n"
      ]
    },
    {
      "cell_type": "code",
      "execution_count": null,
      "metadata": {
        "id": "Urm0oCxDDhpl"
      },
      "outputs": [],
      "source": [
        "# barplot 으로 합계 값 구하기\n"
      ]
    },
    {
      "cell_type": "code",
      "execution_count": null,
      "metadata": {
        "id": "tbmO3tGFDhpl"
      },
      "outputs": [],
      "source": [
        "# barplot 에 hue 를 사용하여 색상을 다르게 표현해 보기\n"
      ]
    },
    {
      "cell_type": "code",
      "execution_count": null,
      "metadata": {
        "id": "HHAK5GFKDhpl"
      },
      "outputs": [],
      "source": [
        "# groupby 를 통해 위 시각화에 대한 값을 구하기\n"
      ]
    },
    {
      "cell_type": "code",
      "execution_count": null,
      "metadata": {
        "id": "7YHt0B_pDhpl"
      },
      "outputs": [],
      "source": [
        "# pivot_table 를 통해 위 시각화에 대한 값을 구하기\n"
      ]
    },
    {
      "cell_type": "code",
      "execution_count": null,
      "metadata": {
        "id": "5sVjWLLNDhpl"
      },
      "outputs": [],
      "source": [
        "# cylinders 와 mpg 의 x, hue 값을 변경해서 시각화\n"
      ]
    },
    {
      "cell_type": "markdown",
      "metadata": {
        "id": "sC8otqayDhpm"
      },
      "source": [
        "### boxplot과 사분위수\n",
        "\n",
        "<img src=\"https://upload.wikimedia.org/wikipedia/commons/thumb/1/1a/Boxplot_vs_PDF.svg/1280px-Boxplot_vs_PDF.svg.png\" width=\"300\">\n",
        "\n",
        "이미지 출처 : https://en.wikipedia.org/wiki/Box_plot"
      ]
    },
    {
      "cell_type": "code",
      "execution_count": null,
      "metadata": {
        "id": "b3qAW1lZDhpm"
      },
      "outputs": [],
      "source": [
        "# boxplot 으로 origin 별 mpg 의 기술통계 값 구하기\n"
      ]
    },
    {
      "cell_type": "code",
      "execution_count": null,
      "metadata": {
        "id": "DOZ6tdXBDhpm"
      },
      "outputs": [],
      "source": [
        "# groupby로 origin 값에 따른 mpg의 기술통계 구하기\n",
        "# 결과를 변수에 할당하여 재사용하기\n"
      ]
    },
    {
      "cell_type": "markdown",
      "metadata": {
        "id": "xaRBYdJuDhpm"
      },
      "source": [
        "### 박스플롯 이해하기\n",
        "* https://ko.wikipedia.org/wiki/%EC%83%81%EC%9E%90_%EC%88%98%EC%97%BC_%EA%B7%B8%EB%A6%BC"
      ]
    },
    {
      "cell_type": "code",
      "execution_count": null,
      "metadata": {
        "id": "oBMXpYsUDhpm"
      },
      "outputs": [],
      "source": [
        "# IQR, 이상치를 제외한 최댓값, 최솟값 구하기\n",
        "# Q3\n",
        "# Q1\n",
        "# IQR\n",
        "# OUT_MAX\n",
        "# OUT_MIN"
      ]
    },
    {
      "cell_type": "code",
      "execution_count": null,
      "metadata": {
        "id": "qY2VELJlDhpm"
      },
      "outputs": [],
      "source": [
        "# boxenplot 그리기\n"
      ]
    },
    {
      "cell_type": "code",
      "execution_count": null,
      "metadata": {
        "id": "fAKuDk4RDhpm"
      },
      "outputs": [],
      "source": [
        "# violinplot 그리기\n"
      ]
    },
    {
      "cell_type": "markdown",
      "metadata": {
        "id": "v2RzctPTDhpm"
      },
      "source": [
        "### 산점도를 통한 범주형 데이터 표현"
      ]
    },
    {
      "cell_type": "code",
      "execution_count": null,
      "metadata": {
        "id": "3NEvUBwDDhpm"
      },
      "outputs": [],
      "source": [
        "# scatterplot 으로 범주형 변수 그리기\n"
      ]
    },
    {
      "cell_type": "code",
      "execution_count": null,
      "metadata": {
        "id": "GMSVn1YMDhpm"
      },
      "outputs": [],
      "source": [
        "# stripplot\n"
      ]
    },
    {
      "cell_type": "code",
      "execution_count": null,
      "metadata": {
        "id": "8Num1HXaDhpm"
      },
      "outputs": [],
      "source": [
        "# swarmplot\n"
      ]
    },
    {
      "cell_type": "markdown",
      "metadata": {
        "id": "SKGE-gHeDhpm"
      },
      "source": [
        "### catplot을 통한 범주형 데이터의 서브플롯 시각화\n",
        "<img src=\"https://seaborn.pydata.org/_images/function_overview_8_0.png\" width=\"500\">"
      ]
    },
    {
      "cell_type": "code",
      "execution_count": null,
      "metadata": {
        "id": "qZvnZi53Dhpm"
      },
      "outputs": [],
      "source": [
        "# catplot\n"
      ]
    },
    {
      "cell_type": "code",
      "execution_count": null,
      "metadata": {
        "id": "KM5lKvRcDhpm"
      },
      "outputs": [],
      "source": [
        "# catplot 으로 boxplot그리기\n"
      ]
    },
    {
      "cell_type": "code",
      "execution_count": null,
      "metadata": {
        "id": "i27mxxAlDhpm"
      },
      "outputs": [],
      "source": [
        "# catplot 으로 violinplot그리기\n"
      ]
    },
    {
      "cell_type": "code",
      "execution_count": null,
      "metadata": {
        "id": "oV1AEZdADhpm"
      },
      "outputs": [],
      "source": [
        "# catplot 으로 countplot그리기\n"
      ]
    },
    {
      "cell_type": "code",
      "execution_count": null,
      "metadata": {
        "scrolled": false,
        "id": "fqxX3p-bDhpn"
      },
      "outputs": [],
      "source": [
        "# catplot 으로 boxplot그리기\n",
        "# df 전체를 넣고 시각화 하기\n"
      ]
    },
    {
      "cell_type": "code",
      "execution_count": null,
      "metadata": {
        "id": "i7o_ZggSDhpn"
      },
      "outputs": [],
      "source": [
        "# catplot 으로 violinplot그리기\n",
        "# df 전체를 넣고 시각화 하기\n"
      ]
    },
    {
      "cell_type": "code",
      "execution_count": null,
      "metadata": {
        "id": "M7fIN68kDhpn"
      },
      "outputs": [],
      "source": [
        ""
      ]
    }
  ],
  "metadata": {
    "kernelspec": {
      "display_name": "Python 3",
      "language": "python",
      "name": "python3"
    },
    "language_info": {
      "codemirror_mode": {
        "name": "ipython",
        "version": 3
      },
      "file_extension": ".py",
      "mimetype": "text/x-python",
      "name": "python",
      "nbconvert_exporter": "python",
      "pygments_lexer": "ipython3",
      "version": "3.7.6"
    },
    "toc": {
      "base_numbering": 1,
      "nav_menu": {},
      "number_sections": true,
      "sideBar": true,
      "skip_h1_title": false,
      "title_cell": "Table of Contents",
      "title_sidebar": "Contents",
      "toc_cell": false,
      "toc_position": {
        "height": "calc(100% - 180px)",
        "left": "10px",
        "top": "150px",
        "width": "204.8px"
      },
      "toc_section_display": true,
      "toc_window_display": true
    },
    "varInspector": {
      "cols": {
        "lenName": 16,
        "lenType": 16,
        "lenVar": 40
      },
      "kernels_config": {
        "python": {
          "delete_cmd_postfix": "",
          "delete_cmd_prefix": "del ",
          "library": "var_list.py",
          "varRefreshCmd": "print(var_dic_list())"
        },
        "r": {
          "delete_cmd_postfix": ") ",
          "delete_cmd_prefix": "rm(",
          "library": "var_list.r",
          "varRefreshCmd": "cat(var_dic_list()) "
        }
      },
      "types_to_exclude": [
        "module",
        "function",
        "builtin_function_or_method",
        "instance",
        "_Feature"
      ],
      "window_display": false
    },
    "colab": {
      "name": "5.4 파이썬 EDA-범주형 변수-input.ipynb",
      "provenance": []
    }
  },
  "nbformat": 4,
  "nbformat_minor": 0
}