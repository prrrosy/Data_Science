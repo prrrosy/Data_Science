{
  "cells": [
    {
      "cell_type": "markdown",
      "metadata": {
        "id": "zaGS4boqtiLk"
      },
      "source": [
        "## 딕셔너리의 결과가 아래와 같이 나오도록 아래의 문자열을 변경해 보세요.\n",
        "```\n",
        "{'경기': '031',\n",
        "'강원': '033',\n",
        "'충남': '041',\n",
        "'충북': '043',\n",
        "'경북': '054',\n",
        "'경남': '055',\n",
        "'전남': '061',\n",
        "'전북': '063'}\n",
        "```"
      ]
    },
    {
      "cell_type": "code",
      "execution_count": 1,
      "metadata": {
        "id": "Zbk85RI-tiLm"
      },
      "outputs": [],
      "source": [
        "# 아래의 문자를 딕셔너리 형태로 변경하기\n",
        "phone = \">경기 031 >강원 033 >충남 041 >충북 043 >경북 054 >경남 055 >전남 061 >전북 063\"\n",
        "# \">\" 문자를 기준으로 문자열을 나눕니다. => split() 으로 리스트로 변환\n",
        "# for문으로 리스트를 반복해서 phone_dict 에 채웁니다.\n"
      ]
    },
    {
      "cell_type": "code",
      "execution_count": 12,
      "metadata": {
        "colab": {
          "base_uri": "https://localhost:8080/"
        },
        "id": "2JiX_2jWtiLm",
        "outputId": "58758b62-0cf5-4340-b0c3-cf85c657f808"
      },
      "outputs": [
        {
          "output_type": "stream",
          "name": "stdout",
          "text": [
            "['경기 031 ', '강원 033 ', '충남 041 ', '충북 043 ', '경북 054 ', '경남 055 ', '전남 061 ', '전북 063']\n"
          ]
        }
      ],
      "source": [
        "# split 을 통해 문자열을 나눕니다.\n",
        "# phone_list\n",
        "phone_list = phone.split('>')\n",
        "print(phone_list)"
      ]
    },
    {
      "cell_type": "code",
      "execution_count": 20,
      "metadata": {
        "colab": {
          "base_uri": "https://localhost:8080/"
        },
        "id": "y9Y5uu29tiLn",
        "outputId": "a67a453e-2017-4954-b33e-b61fcca63f66"
      },
      "outputs": [
        {
          "output_type": "stream",
          "name": "stdout",
          "text": [
            "{'경기': '031', '강원': '033', '충남': '041', '충북': '043', '경북': '054', '경남': '055', '전남': '061', '전북': '063'}\n"
          ]
        }
      ],
      "source": [
        "phone_dict = dict()\n",
        "for p in phone_list:\n",
        "    p_split = p.split()\n",
        "    if len(p_split) > 0 :\n",
        "        key = p_split[0]\n",
        "        val = p_split[1]\n",
        "        phone_dict[key] = val\n",
        "print(phone_dict)\n",
        " \n",
        "\n"
      ]
    },
    {
      "cell_type": "code",
      "execution_count": 21,
      "metadata": {
        "colab": {
          "base_uri": "https://localhost:8080/"
        },
        "id": "rNyvO7XEtiLn",
        "outputId": "b1cc0607-a4d0-41eb-ff76-b267d9765c2a"
      },
      "outputs": [
        {
          "output_type": "execute_result",
          "data": {
            "text/plain": [
              "{'강원': '033',\n",
              " '경기': '031',\n",
              " '경남': '055',\n",
              " '경북': '054',\n",
              " '전남': '061',\n",
              " '전북': '063',\n",
              " '충남': '041',\n",
              " '충북': '043'}"
            ]
          },
          "metadata": {},
          "execution_count": 21
        }
      ],
      "source": [
        "phone_dict"
      ]
    },
    {
      "cell_type": "code",
      "execution_count": null,
      "metadata": {
        "id": "xO_MpG_HtiLn"
      },
      "outputs": [],
      "source": [
        ""
      ]
    }
  ],
  "metadata": {
    "colab": {
      "collapsed_sections": [
        "thxfIvC6u4Ga",
        "tMKs81M3sQ9e",
        "uQ0VMYAbu4Gi",
        "ZYBqz3-MsQ94",
        "-mqoFD_Bu4Gv",
        "x4H0bcnisQ-F",
        "Axqztu27sQ-N",
        "Cc2lnQWmsQ-U",
        "AAv0qz8gsQ-o",
        "uzFfT5GTu4Js"
      ],
      "name": "4.3 파이썬 전화 지역번호 목록 만들기-input.ipynb",
      "provenance": []
    },
    "kernelspec": {
      "display_name": "Python 3",
      "language": "python",
      "name": "python3"
    },
    "language_info": {
      "codemirror_mode": {
        "name": "ipython",
        "version": 3
      },
      "file_extension": ".py",
      "mimetype": "text/x-python",
      "name": "python",
      "nbconvert_exporter": "python",
      "pygments_lexer": "ipython3",
      "version": "3.7.6"
    },
    "toc": {
      "base_numbering": 1,
      "nav_menu": {},
      "number_sections": true,
      "sideBar": true,
      "skip_h1_title": false,
      "title_cell": "Table of Contents",
      "title_sidebar": "Contents",
      "toc_cell": false,
      "toc_position": {},
      "toc_section_display": true,
      "toc_window_display": false
    },
    "varInspector": {
      "cols": {
        "lenName": 16,
        "lenType": 16,
        "lenVar": 40
      },
      "kernels_config": {
        "python": {
          "delete_cmd_postfix": "",
          "delete_cmd_prefix": "del ",
          "library": "var_list.py",
          "varRefreshCmd": "print(var_dic_list())"
        },
        "r": {
          "delete_cmd_postfix": ") ",
          "delete_cmd_prefix": "rm(",
          "library": "var_list.r",
          "varRefreshCmd": "cat(var_dic_list()) "
        }
      },
      "types_to_exclude": [
        "module",
        "function",
        "builtin_function_or_method",
        "instance",
        "_Feature"
      ],
      "window_display": false
    }
  },
  "nbformat": 4,
  "nbformat_minor": 0
}